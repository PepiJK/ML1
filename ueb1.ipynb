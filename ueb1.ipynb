{
 "cells": [
  {
   "cell_type": "markdown",
   "metadata": {},
   "source": [
    "# Uebung 01\n",
    "## Einfuehrung\n",
    "### Aufgabe 01.01\n",
    "\n",
    "Laden Sie von [UCI](https://archive.ics.uci.edu/ml/index.php) den [Iris](https://archive.ics.uci.edu/ml/datasets/Iris) Datensatz herunter.\n",
    "Für diesen Datensatz sind folgende Werte zu ermitteln:\n",
    "- [ ] Einlesen des Datensatzes in einen Pandas Dataframe\n",
    "- [ ] Minimum und Maximum jedes Features\n",
    "- [ ] Minimum und Maximum jedes Features für jedes Label\n",
    "- [ ] Mittelwert und Standardabweichung jedes Features\n",
    "- [ ] Mittelwert und Standardabweichung jedes Features für jedes Label\n",
    "- [ ] Erstellen Sie einen Boxplot für jedes Features\n",
    "- [ ] Quartile jedes Features\n",
    "- [ ] Quartile jedes Features für jedes Label\n",
    "- [ ] Erstellen Sie ein Histogramm für die Klassenverteilung\n",
    "- [ ] Erstellen Sie ein Histogramm für jedes Feature, wobei die Instanzen der verschiedenen Klassen unterschiedliche Farben haben sollen\n",
    "\n",
    "### Aufgabe 01.02\n",
    "Wählen Sie einen weiteren Datensatz von [UCI](https://archive.ics.uci.edu/ml/index.php) der nicht unter den _Most Popular Data Sets_ gelistet ist.\n",
    "Ihr Datensatz muss mindestens 3 numerische Features enthalten.\n",
    "Geben Sie den Link zum ausgewählten Datensatz in Ihrer Lösung an.\n",
    "Achten Sie darauf, dass sich der von Ihnen gewählte Datensatz zur Klassifizierung eignet.\n",
    "\n",
    "Lesen Sie die Datensets ein und schreiben Sie die Werte in einen Pandas Data Frame.\n",
    "Ermitteln und visualisieren Sie für beide Datensätze:\n",
    "- [ ] Einlesen des Datensatzes in einen Pandas Dataframe\n",
    "- [ ] Minimum und Maximum für drei Features\n",
    "- [ ] Mittelwert und Standardabweichung für drei Features\n",
    "- [ ] Erstellen Sie einen Boxplot für drei Features\n",
    "- [ ] Quartile für drei Features\n",
    "- [ ] Erstellen Sie ein Histogramm für die Klassenverteilung\n",
    "\n",
    "### Abgabe\n",
    "Laden Sie die von Ihnen bearbeitete `.ipynb` Datei sowie ein dazugehöriges `requirements.txt` File in einer `.zip` Datei im Moodle Kurs hoch.\n",
    "Vergessen Sie nicht ihre Abgabe entsprechend zu dokumentieren."
   ]
  },
  {
   "cell_type": "markdown",
   "metadata": {
    "pycharm": {
     "name": "#%% md\n"
    }
   },
   "source": [
    "---\n",
    "### Aufagbe 01.01"
   ]
  },
  {
   "cell_type": "code",
   "execution_count": 68,
   "metadata": {
    "pycharm": {
     "is_executing": false,
     "name": "#%% code\n"
    }
   },
   "outputs": [
    {
     "name": "stdout",
     "output_type": "stream",
     "text": [
      "Alle Lables:\n",
      "\n",
      "Maximum:\n",
      " sepal_length               7.9\n",
      "sepal_witdh                4.4\n",
      "petal_length               6.9\n",
      "petal_witdh                2.5\n",
      "class           Iris-virginica\n",
      "dtype: object \n",
      "\n",
      "Minimum:\n",
      " sepal_length            4.3\n",
      "sepal_witdh               2\n",
      "petal_length              1\n",
      "petal_witdh             0.1\n",
      "class           Iris-setosa\n",
      "dtype: object \n",
      "\n",
      "Mittelwert:\n",
      " sepal_length    5.843333\n",
      "sepal_witdh     3.054000\n",
      "petal_length    3.758667\n",
      "petal_witdh     1.198667\n",
      "dtype: float64 \n",
      "\n",
      "Standardabweichung:\n",
      " sepal_length    0.828066\n",
      "sepal_witdh     0.433594\n",
      "petal_length    1.764420\n",
      "petal_witdh     0.763161\n",
      "dtype: float64 \n",
      "\n",
      "0,25 Quantil:\n",
      " sepal_length    5.1\n",
      "sepal_witdh     2.8\n",
      "petal_length    1.6\n",
      "petal_witdh     0.3\n",
      "Name: 0.25, dtype: float64 \n",
      "\n",
      "0,5 Quantil:\n",
      " sepal_length    5.80\n",
      "sepal_witdh     3.00\n",
      "petal_length    4.35\n",
      "petal_witdh     1.30\n",
      "Name: 0.5, dtype: float64 \n",
      "\n",
      "0,75 Quantil:\n",
      " sepal_length    6.4\n",
      "sepal_witdh     3.3\n",
      "petal_length    5.1\n",
      "petal_witdh     1.8\n",
      "Name: 0.75, dtype: float64 \n",
      "\n",
      "---------------------------------------\n",
      "\n",
      "Iris-setosa:\n",
      "\n",
      "Maximum:\n",
      " sepal_length            5.8\n",
      "sepal_witdh             4.4\n",
      "petal_length            1.9\n",
      "petal_witdh             0.6\n",
      "class           Iris-setosa\n",
      "dtype: object \n",
      "\n",
      "Minimum:\n",
      " sepal_length            4.3\n",
      "sepal_witdh             2.3\n",
      "petal_length              1\n",
      "petal_witdh             0.1\n",
      "class           Iris-setosa\n",
      "dtype: object \n",
      "\n",
      "Mittelwert:\n",
      " sepal_length    5.006\n",
      "sepal_witdh     3.418\n",
      "petal_length    1.464\n",
      "petal_witdh     0.244\n",
      "dtype: float64 \n",
      "\n",
      "Standardabweichung:\n",
      " sepal_length    0.352490\n",
      "sepal_witdh     0.381024\n",
      "petal_length    0.173511\n",
      "petal_witdh     0.107210\n",
      "dtype: float64 \n",
      "\n",
      "0,25 Quantil:\n",
      " sepal_length    4.800\n",
      "sepal_witdh     3.125\n",
      "petal_length    1.400\n",
      "petal_witdh     0.200\n",
      "Name: 0.25, dtype: float64 \n",
      "\n",
      "0,5 Quantil:\n",
      " sepal_length    5.0\n",
      "sepal_witdh     3.4\n",
      "petal_length    1.5\n",
      "petal_witdh     0.2\n",
      "Name: 0.5, dtype: float64 \n",
      "\n",
      "0,75 Quantil:\n",
      " sepal_length    5.200\n",
      "sepal_witdh     3.675\n",
      "petal_length    1.575\n",
      "petal_witdh     0.300\n",
      "Name: 0.75, dtype: float64 \n",
      "\n",
      "---------------------------------------\n",
      "\n",
      "Iris-versicolor:\n",
      "\n",
      "Maximum:\n",
      " sepal_length                  7\n",
      "sepal_witdh                 3.4\n",
      "petal_length                5.1\n",
      "petal_witdh                 1.8\n",
      "class           Iris-versicolor\n",
      "dtype: object \n",
      "\n",
      "Minimum:\n",
      " sepal_length                4.9\n",
      "sepal_witdh                   2\n",
      "petal_length                  3\n",
      "petal_witdh                   1\n",
      "class           Iris-versicolor\n",
      "dtype: object \n",
      "\n",
      "Mittelwert:\n",
      " sepal_length    5.936\n",
      "sepal_witdh     2.770\n",
      "petal_length    4.260\n",
      "petal_witdh     1.326\n",
      "dtype: float64 \n",
      "\n",
      "Standardabweichung:\n",
      " sepal_length    0.516171\n",
      "sepal_witdh     0.313798\n",
      "petal_length    0.469911\n",
      "petal_witdh     0.197753\n",
      "dtype: float64 \n",
      "\n",
      "0,25 Quantil:\n",
      " sepal_length    5.600\n",
      "sepal_witdh     2.525\n",
      "petal_length    4.000\n",
      "petal_witdh     1.200\n",
      "Name: 0.25, dtype: float64 \n",
      "\n",
      "0,5 Quantil:\n",
      " sepal_length    5.90\n",
      "sepal_witdh     2.80\n",
      "petal_length    4.35\n",
      "petal_witdh     1.30\n",
      "Name: 0.5, dtype: float64 \n",
      "\n",
      "0,75 Quantil:\n",
      " sepal_length    6.3\n",
      "sepal_witdh     3.0\n",
      "petal_length    4.6\n",
      "petal_witdh     1.5\n",
      "Name: 0.75, dtype: float64 \n",
      "\n",
      "---------------------------------------\n",
      "\n",
      "Iris-verginica:\n",
      "\n",
      "Maximum:\n",
      " sepal_length               7.9\n",
      "sepal_witdh                3.8\n",
      "petal_length               6.9\n",
      "petal_witdh                2.5\n",
      "class           Iris-virginica\n",
      "dtype: object \n",
      "\n",
      "Minimum:\n",
      " sepal_length               4.9\n",
      "sepal_witdh                2.2\n",
      "petal_length               4.5\n",
      "petal_witdh                1.4\n",
      "class           Iris-virginica\n",
      "dtype: object \n",
      "\n",
      "Mittelwert:\n",
      " sepal_length    6.588\n",
      "sepal_witdh     2.974\n",
      "petal_length    5.552\n",
      "petal_witdh     2.026\n",
      "dtype: float64 \n",
      "\n",
      "Standardabweichung:\n",
      " sepal_length    0.635880\n",
      "sepal_witdh     0.322497\n",
      "petal_length    0.551895\n",
      "petal_witdh     0.274650\n",
      "dtype: float64 \n",
      "\n",
      "0,25 Quantil:\n",
      " sepal_length    6.225\n",
      "sepal_witdh     2.800\n",
      "petal_length    5.100\n",
      "petal_witdh     1.800\n",
      "Name: 0.25, dtype: float64 \n",
      "\n",
      "0,5 Quantil:\n",
      " sepal_length    6.50\n",
      "sepal_witdh     3.00\n",
      "petal_length    5.55\n",
      "petal_witdh     2.00\n",
      "Name: 0.5, dtype: float64 \n",
      "\n",
      "0,75 Quantil:\n",
      " sepal_length    6.900\n",
      "sepal_witdh     3.175\n",
      "petal_length    5.875\n",
      "petal_witdh     2.300\n",
      "Name: 0.75, dtype: float64 \n",
      "\n",
      "---------------------------------------\n",
      "\n"
     ]
    },
    {
     "data": {
      "image/png": "[encoded data removed]",
      "text/plain": [
       "<Figure size 432x288 with 1 Axes>"
      ]
     },
     "metadata": {
      "needs_background": "light"
     },
     "output_type": "display_data"
    },
    {
     "data": {
      "image/png": "[encoded data removed]",
      "text/plain": [
       "<Figure size 432x288 with 4 Axes>"
      ]
     },
     "metadata": {
      "needs_background": "light"
     },
     "output_type": "display_data"
    },
    {
     "data": {
      "image/png": "[encoded data removed]",
      "text/plain": [
       "<Figure size 432x288 with 1 Axes>"
      ]
     },
     "metadata": {
      "needs_background": "light"
     },
     "output_type": "display_data"
    },
    {
     "data": {
      "image/png": "[encoded data removed]",
      "text/plain": [
       "<Figure size 432x288 with 1 Axes>"
      ]
     },
     "metadata": {
      "needs_background": "light"
     },
     "output_type": "display_data"
    },
    {
     "data": {
      "image/png": "[encoded data removed]",
      "text/plain": [
       "<Figure size 432x288 with 1 Axes>"
      ]
     },
     "metadata": {
      "needs_background": "light"
     },
     "output_type": "display_data"
    },
    {
     "data": {
      "image/png": "[encoded data removed]",
      "text/plain": [
       "<Figure size 432x288 with 1 Axes>"
      ]
     },
     "metadata": {
      "needs_background": "light"
     },
     "output_type": "display_data"
    }
   ],
   "source": [
    "import pandas as pd\n",
    "import matplotlib.pyplot as plt\n",
    "import warnings\n",
    "warnings.filterwarnings('ignore')\n",
    "\n",
    "features = ['sepal_length', 'sepal_witdh', 'petal_length', 'petal_witdh', 'class']\n",
    "\n",
    "df_iris = pd.read_csv('iris.data', names=features)\n",
    "df_setosa = df_iris[df_iris['class'] == 'Iris-setosa']\n",
    "df_versicolor = df_iris[df_iris['class'] == 'Iris-versicolor']\n",
    "df_virginica = df_iris[df_iris['class'] == 'Iris-virginica']\n",
    "\n",
    "print('Alle Lables:\\n')\n",
    "print('Maximum:\\n', df_iris.max(), '\\n')\n",
    "print('Minimum:\\n', df_iris.min(), '\\n')\n",
    "print('Mittelwert:\\n', df_iris.mean(), '\\n')\n",
    "print('Standardabweichung:\\n', df_iris.std(), '\\n')\n",
    "print('0,25 Quantil:\\n', df_iris.quantile(.25), '\\n')\n",
    "print('0,5 Quantil:\\n', df_iris.quantile(.5), '\\n')\n",
    "print('0,75 Quantil:\\n', df_iris.quantile(.75), '\\n')\n",
    "print('---------------------------------------\\n')\n",
    "\n",
    "print('Iris-setosa:\\n')\n",
    "print('Maximum:\\n', df_setosa.max(), '\\n')\n",
    "print('Minimum:\\n', df_setosa.min(), '\\n')\n",
    "print('Mittelwert:\\n', df_setosa.mean(), '\\n')\n",
    "print('Standardabweichung:\\n', df_setosa.std(), '\\n')\n",
    "print('0,25 Quantil:\\n', df_setosa.quantile(.25), '\\n')\n",
    "print('0,5 Quantil:\\n', df_setosa.quantile(.5), '\\n')\n",
    "print('0,75 Quantil:\\n', df_setosa.quantile(.75), '\\n')\n",
    "print('---------------------------------------\\n')\n",
    "\n",
    "print('Iris-versicolor:\\n')\n",
    "print('Maximum:\\n', df_versicolor.max(), '\\n')\n",
    "print('Minimum:\\n', df_versicolor.min(), '\\n')\n",
    "print('Mittelwert:\\n', df_versicolor.mean(), '\\n')\n",
    "print('Standardabweichung:\\n', df_versicolor.std(), '\\n')\n",
    "print('0,25 Quantil:\\n', df_versicolor.quantile(.25), '\\n')\n",
    "print('0,5 Quantil:\\n', df_versicolor.quantile(.5), '\\n')\n",
    "print('0,75 Quantil:\\n', df_versicolor.quantile(.75), '\\n')\n",
    "print('---------------------------------------\\n')\n",
    "\n",
    "print('Iris-verginica:\\n')\n",
    "print('Maximum:\\n', df_virginica.max(), '\\n')\n",
    "print('Minimum:\\n', df_virginica.min(), '\\n')\n",
    "print('Mittelwert:\\n', df_virginica.mean(), '\\n')\n",
    "print('Standardabweichung:\\n', df_virginica.std(), '\\n')\n",
    "print('0,25 Quantil:\\n', df_virginica.quantile(.25), '\\n')\n",
    "print('0,5 Quantil:\\n', df_virginica.quantile(.5), '\\n')\n",
    "print('0,75 Quantil:\\n', df_virginica.quantile(.75), '\\n')\n",
    "print('---------------------------------------\\n')\n",
    "\n",
    "# Boxplot jedes Features\n",
    "df_iris.boxplot(column=features[:-1])\n",
    "\n",
    "# Historgramm für die Klassenverteilung\n",
    "df_iris.hist(by='class')\n",
    "\n",
    "# Histogramme für jedes Feature\n",
    "for col in range(0,4,1):\n",
    "    plt.figure()\n",
    "    plt.plot()\n",
    "    plt.ylabel('Count')\n",
    "    plt.xlabel('Values')\n",
    "    plt.title('Histogramm ' + features[col])\n",
    "    plt.hist([\n",
    "        df_setosa[features[col]],\n",
    "        df_versicolor[features[col]],\n",
    "        df_virginica[features[col]]\n",
    "    ], bins=15, color=['red','green','blue'], label=['Setosa', 'Versicolor', 'Virginica'])\n",
    "    plt.legend()\n",
    "    plt.show()"
   ]
  },
  {
   "cell_type": "markdown",
   "metadata": {
    "pycharm": {
     "name": "#%% md\n"
    }
   },
   "source": [
    "---\n",
    "### Aufagbe 01.02\n",
    "https://archive.ics.uci.edu/ml/datasets/QSAR+fish+toxicity\n",
    "\n",
    "6 molecular descriptors and 1 quantitative experimental response:\n",
    " - 1) CIC0\n",
    " - 2) SM1_Dz(Z)\n",
    " - 3) GATS1i\n",
    " - 4) NdsCH\n",
    " - 5) NdssC\n",
    " - 6) MLOGP\n",
    " - 7) quantitative response, LC50 [-LOG(mol/L)]\n",
    " "
   ]
  },
  {
   "cell_type": "code",
   "execution_count": 69,
   "metadata": {
    "pycharm": {
     "is_executing": false,
     "name": "#%% code\n"
    }
   },
   "outputs": [
    {
     "name": "stdout",
     "output_type": "stream",
     "text": [
      "Maximum:\n",
      " CIC0         6.000\n",
      "SM1_Dz(Z)    6.515\n",
      "GATS1i       9.612\n",
      "dtype: float64 \n",
      "\n",
      "Minimum:\n",
      " CIC0         0.000\n",
      "SM1_Dz(Z)   -2.884\n",
      "GATS1i       0.053\n",
      "dtype: float64 \n",
      "\n",
      "Mittelwert:\n",
      " CIC0         0.485683\n",
      "SM1_Dz(Z)    2.109285\n",
      "GATS1i       4.064431\n",
      "dtype: float64 \n",
      "\n",
      "Standardabweichung:\n",
      " CIC0         0.861279\n",
      "SM1_Dz(Z)    1.433181\n",
      "GATS1i       1.455698\n",
      "dtype: float64 \n",
      "\n",
      "0,25 Quantil:\n",
      " CIC0         0.00000\n",
      "SM1_Dz(Z)    1.20900\n",
      "GATS1i       3.15175\n",
      "Name: 0.25, dtype: float64 \n",
      "\n",
      "0,5 Quantil:\n",
      " CIC0         0.0000\n",
      "SM1_Dz(Z)    2.1270\n",
      "GATS1i       3.9875\n",
      "Name: 0.5, dtype: float64 \n",
      "\n",
      "0,75 Quantil:\n",
      " CIC0         1.0000\n",
      "SM1_Dz(Z)    3.1050\n",
      "GATS1i       4.9075\n",
      "Name: 0.75, dtype: float64 \n",
      "\n",
      "---------------------------------------\n",
      "\n"
     ]
    },
    {
     "data": {
      "text/plain": [
       "array([[<matplotlib.axes._subplots.AxesSubplot object at 0x7fe53b1650d0>,\n",
       "        <matplotlib.axes._subplots.AxesSubplot object at 0x7fe5385f8af0>],\n",
       "       [<matplotlib.axes._subplots.AxesSubplot object at 0x7fe5335e3490>,\n",
       "        <matplotlib.axes._subplots.AxesSubplot object at 0x7fe53a4fe460>]],\n",
       "      dtype=object)"
      ]
     },
     "execution_count": 69,
     "metadata": {},
     "output_type": "execute_result"
    },
    {
     "data": {
      "image/png": "[encoded data removed]",
      "text/plain": [
       "<Figure size 432x288 with 1 Axes>"
      ]
     },
     "metadata": {
      "needs_background": "light"
     },
     "output_type": "display_data"
    },
    {
     "data": {
      "image/png": "[encoded data removed]",
      "text/plain": [
       "<Figure size 432x288 with 4 Axes>"
      ]
     },
     "metadata": {
      "needs_background": "light"
     },
     "output_type": "display_data"
    }
   ],
   "source": [
    "import pandas as pd\n",
    "import matplotlib.pyplot as plt\n",
    "import warnings\n",
    "warnings.filterwarnings('ignore')\n",
    "\n",
    "features = ['CIC0', 'SM1_Dz(Z)', 'GATS1i']\n",
    "\n",
    "df_fish = pd.read_csv('qsar_fish_toxicity.csv', names=features, sep=';')\n",
    "\n",
    "print('Maximum:\\n', df_fish.max(), '\\n')\n",
    "print('Minimum:\\n', df_fish.min(), '\\n')\n",
    "print('Mittelwert:\\n', df_fish.mean(), '\\n')\n",
    "print('Standardabweichung:\\n', df_fish.std(), '\\n')\n",
    "print('0,25 Quantil:\\n', df_fish.quantile(.25), '\\n')\n",
    "print('0,5 Quantil:\\n', df_fish.quantile(.5), '\\n')\n",
    "print('0,75 Quantil:\\n', df_fish.quantile(.75), '\\n')\n",
    "print('---------------------------------------\\n')\n",
    "\n",
    "df_fish.boxplot()\n",
    "\n",
    "df_fish.hist()\n",
    "\n"
   ]
  }
 ],
 "metadata": {
  "kernelspec": {
   "display_name": "Python 3",
   "language": "python",
   "name": "python3"
  },
  "language_info": {
   "codemirror_mode": {
    "name": "ipython",
    "version": 3
   },
   "file_extension": ".py",
   "mimetype": "text/x-python",
   "name": "python",
   "nbconvert_exporter": "python",
   "pygments_lexer": "ipython3",
   "version": "3.8.1"
  },
  "pycharm": {
   "stem_cell": {
    "cell_type": "raw",
    "metadata": {
     "collapsed": false
    },
    "source": []
   }
  }
 },
 "nbformat": 4,
 "nbformat_minor": 1
}
